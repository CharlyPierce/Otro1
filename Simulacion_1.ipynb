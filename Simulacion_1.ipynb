{
  "nbformat": 4,
  "nbformat_minor": 0,
  "metadata": {
    "colab": {
      "name": "Simulacion_1.ipynb",
      "provenance": [],
      "collapsed_sections": [],
      "authorship_tag": "ABX9TyPYpTe512zqJ+10TEjLR1/e",
      "include_colab_link": true
    },
    "kernelspec": {
      "name": "python3",
      "display_name": "Python 3"
    },
    "language_info": {
      "name": "python"
    }
  },
  "cells": [
    {
      "cell_type": "markdown",
      "metadata": {
        "id": "view-in-github",
        "colab_type": "text"
      },
      "source": [
        "<a href=\"https://colab.research.google.com/github/CharlyPierce/Otro1/blob/main/Simulacion_1.ipynb\" target=\"_parent\"><img src=\"https://colab.research.google.com/assets/colab-badge.svg\" alt=\"Open In Colab\"/></a>"
      ]
    },
    {
      "cell_type": "code",
      "execution_count": null,
      "metadata": {
        "id": "q6oQrK8i2oFt"
      },
      "outputs": [],
      "source": [
        "import math\n",
        "import pandas as pd\n",
        "import numpy as np"
      ]
    },
    {
      "cell_type": "code",
      "source": [
        "import pandas as pd\n",
        "pd.options.display.float_format = \"{:.5f}\".format\n",
        "No=13467925\n",
        "Names=['Digitos Medios','Cuadrado','Pseudo Aleatorio']\n",
        "def mid(No,it):\n",
        "  i=0\n",
        "  a=[]\n",
        "  while(i<it):\n",
        "    try:\n",
        "      No=str(No)\n",
        "      N=int(No[2:-2])\n",
        "      No=N**2\n",
        "      N1=No*10**(-8)\n",
        "      No=str(No)\n",
        "      a.append([N,No,N1])\n",
        "      i+=1\n",
        "    except:\n",
        "      break\n",
        "  return a,i\n",
        "print('No Original:',No)\n",
        "a,i=mid(No,10)\n",
        "print(pd.DataFrame(a,columns=Names))\n",
        "print('Convergencia a cero en {0} iteraciones\\n'.format(i))"
      ],
      "metadata": {
        "colab": {
          "base_uri": "https://localhost:8080/"
        },
        "id": "pU1NTdLE3fI8",
        "outputId": "27d1b34f-f85b-40f4-dd2c-33c02861d1d9"
      },
      "execution_count": null,
      "outputs": [
        {
          "output_type": "stream",
          "name": "stdout",
          "text": [
            "No Original: 13467925\n",
            "   Digitos Medios  Cuadrado  Pseudo Aleatorio\n",
            "0            4679  21893041           0.21893\n",
            "1            8930  79744900           0.79745\n",
            "2            7449  55487601           0.55488\n",
            "3            4876  23775376           0.23775\n",
            "4            7753  60109009           0.60109\n",
            "5            1090   1188100           0.01188\n",
            "6             881    776161           0.00776\n",
            "7              61      3721           0.00004\n",
            "Convergencia a cero en 8 iteraciones\n",
            "\n"
          ]
        }
      ]
    },
    {
      "cell_type": "code",
      "source": [
        ""
      ],
      "metadata": {
        "id": "FXGiFTXTaIq_"
      },
      "execution_count": null,
      "outputs": []
    },
    {
      "cell_type": "code",
      "source": [
        "def build_model(rate_learning):\n",
        "  model=tf.keras.models.Sequential()\n",
        "  model.add(tf.keras.layer.Dense(unit=1,input_sahpe=(1,))\n",
        "  model.compile(optimizer=tf.keras.optimizer.RMSprop(lr=rate_learning),\n",
        "                                                      loss='mean_square_error',\n",
        "                                                      metrics=[tf.keras.metrics.RootMeanSquaredError()])\n",
        "  return model\n",
        "  \n",
        "  "
      ],
      "metadata": {
        "id": "D5R9AOX7O7a2"
      },
      "execution_count": null,
      "outputs": []
    },
    {
      "cell_type": "code",
      "source": [
        "import tensorflow as tf"
      ],
      "metadata": {
        "id": "YqC-1s-MO9fo"
      },
      "execution_count": null,
      "outputs": []
    },
    {
      "cell_type": "code",
      "source": [
        "m = tf.keras.metrics.AUC()\n",
        "m.update_state([0, 1, 1, 1], [0, 1, 0, 0])\n",
        "print('Intermediate result:', float(m.result()))\n",
        "\n",
        "m.update_state([1, 1, 1, 1], [0, 1, 1, 0])\n",
        "print('Final result:', float(m.result()))"
      ],
      "metadata": {
        "id": "qeC04fUp28ig",
        "outputId": "cdd8d52f-e86b-45bb-c6e7-9724e028253a",
        "colab": {
          "base_uri": "https://localhost:8080/"
        }
      },
      "execution_count": null,
      "outputs": [
        {
          "output_type": "stream",
          "name": "stdout",
          "text": [
            "Intermediate result: 0.6666666865348816\n",
            "Final result: 0.7142857313156128\n"
          ]
        }
      ]
    },
    {
      "cell_type": "code",
      "source": [
        "import sklearn\n",
        "import pandas as pd\n",
        "import numpy as np"
      ],
      "metadata": {
        "id": "-2MgxWVHtwOq"
      },
      "execution_count": null,
      "outputs": []
    },
    {
      "cell_type": "code",
      "source": [
        "from scipy.stats import rankdata"
      ],
      "metadata": {
        "id": "Ehyg5aoCt1bG"
      },
      "execution_count": null,
      "outputs": []
    },
    {
      "cell_type": "code",
      "source": [
        "yPred = np.array([[0.02,0.35,0.55,0.05,0.03],[0.02,0.01,0.01,0.95,0.01]])"
      ],
      "metadata": {
        "id": "m2xFPDotuM6N"
      },
      "execution_count": null,
      "outputs": []
    },
    {
      "cell_type": "code",
      "source": [
        "rankpos = lambda x : (len(x)+1) - rankdata(x).astype(int)\n",
        "# List comprehension to map the lambda function across all records of yPred\n",
        "yPredRank = np.array([rankpos(rec) for rec in yPred])"
      ],
      "metadata": {
        "id": "DHB469sKuN_6"
      },
      "execution_count": null,
      "outputs": []
    },
    {
      "cell_type": "code",
      "source": [
        "rankdata([0.02,0.35,0.55,0.05,0.03])\n",
        "# [0.02,0.35,0.55,0.05,0.03]\n",
        "  #  1    4     5    3   2  -> si los ordenas esta es la posicion q les toca"
      ],
      "metadata": {
        "colab": {
          "base_uri": "https://localhost:8080/"
        },
        "id": "rlSfixF9uXcv",
        "outputId": "62ca29e4-4fcf-4574-f315-6753f92b2b87"
      },
      "execution_count": null,
      "outputs": [
        {
          "output_type": "execute_result",
          "data": {
            "text/plain": [
              "array([1., 4., 5., 3., 2.])"
            ]
          },
          "metadata": {},
          "execution_count": 41
        }
      ]
    },
    {
      "cell_type": "code",
      "source": [
        "6-rankdata([0.02,0.35,0.55,0.05,0.03])\n",
        "import tensorflow as tf"
      ],
      "metadata": {
        "id": "j-ej2DnMutEU"
      },
      "execution_count": null,
      "outputs": []
    },
    {
      "cell_type": "code",
      "source": [
        "m = tf.keras.metrics.SparseCategoricalAccuracy()\n",
        "m.update_state([[0], [2]], [[0.9, 0.05, 0.05], [0.05, 0.05, 0.9]])\n",
        "m.result().numpy()"
      ],
      "metadata": {
        "colab": {
          "base_uri": "https://localhost:8080/"
        },
        "id": "2j6Em3RP0Ohh",
        "outputId": "4f87199e-df1c-4837-d3b3-37f43012a7d9"
      },
      "execution_count": null,
      "outputs": [
        {
          "output_type": "execute_result",
          "data": {
            "text/plain": [
              "1.0"
            ]
          },
          "metadata": {},
          "execution_count": 36
        }
      ]
    },
    {
      "cell_type": "code",
      "source": [
        ""
      ],
      "metadata": {
        "id": "3s2CqzWeFM09"
      },
      "execution_count": null,
      "outputs": []
    },
    {
      "cell_type": "code",
      "source": [
        ""
      ],
      "metadata": {
        "id": "ZoaURHRZFM5b"
      },
      "execution_count": null,
      "outputs": []
    },
    {
      "cell_type": "code",
      "source": [
        "import tensorflow as tf\n",
        "import pandas as pd\n",
        "import matplotlib.pyplot as plt"
      ],
      "metadata": {
        "id": "dlg6wl3hfDmd"
      },
      "execution_count": null,
      "outputs": []
    },
    {
      "cell_type": "code",
      "source": [
        "\"\"\"NO ES TAN IMPORTANTE PORQUE SOLO PUEDES GRAFICARLO EN 2D \n",
        "PARA MAYORES DIMENSIONES NO SERVIRA ENTONCES\n",
        "dEBES BASARTE EN LA FUNCION DE PERDIDA Y LA PRECICION\n",
        "plt.xlabel('Feature')\n",
        "plt.ylabel('label')\n",
        "x0=0\n",
        "y0=tb\n",
        "x1=my_feature[-1]\n",
        "y1=tb+(tw*x1)\n",
        "plt.scatter(my_feature,my_label)\n",
        "plt.plot([x0,x1],[y0,y1],c='r')\n",
        "\"\"\"\n",
        "\n",
        "# hi.epoch\n",
        "# a=pd.DataFrame(hi.history)\n",
        "# plt.figure()#si haces 2 plots este cra una nueva figura para no superpone\n",
        "plt.figure()\n",
        "plt.xlabel('Epocs')\n",
        "plt.ylabel('RootMeanSquaredError')\n",
        "plt.plot(hi.epoch,a['root_mean_squared_error'],label='loss',c='green')#lo super pone si no pones un plt.figure()\n",
        "plt.legend()\n",
        "plt.ylim([a['root_mean_squared_error'].min()*0.97,a['root_mean_squared_error'].max()])\n",
        "\n"
      ],
      "metadata": {
        "colab": {
          "base_uri": "https://localhost:8080/",
          "height": 297
        },
        "id": "-HP0ya3un7ag",
        "outputId": "e01f5a64-cf16-4fc3-f433-c19e1f5f535d"
      },
      "execution_count": null,
      "outputs": [
        {
          "output_type": "execute_result",
          "data": {
            "text/plain": [
              "(1.251204912662506, 30.512046813964844)"
            ]
          },
          "metadata": {},
          "execution_count": 161
        },
        {
          "output_type": "display_data",
          "data": {
            "image/png": "[encoded data removed]",
            "text/plain": [
              "<Figure size 432x288 with 1 Axes>"
            ]
          },
          "metadata": {
            "needs_background": "light"
          }
        }
      ]
    },
    {
      "cell_type": "code",
      "source": [
        "hi.epoch#hi=history history=model.fit(...)\n",
        "a=pd.DataFrame(hi.history)\n",
        "\n",
        "plt.figure()#Crea nueva figura\n",
        "plt.xlabel('Epocs')\n",
        "plt.ylabel('RootMeanSquaredError')\n",
        "plt.plot(hi.epoch,a['root_mean_squared_error'],label='loss',c='green')#lo super pone si no pones un plt.figure()\n",
        "plt.legend()\n",
        "plt.ylim([a['root_mean_squared_error'].min()*0.97,a['root_mean_squared_error'].max()])\n"
      ],
      "metadata": {
        "colab": {
          "base_uri": "https://localhost:8080/",
          "height": 296
        },
        "id": "PDi-w-GKpgT1",
        "outputId": "1961d139-e26b-424e-f66f-ed7b8a3a2f33"
      },
      "execution_count": null,
      "outputs": [
        {
          "output_type": "execute_result",
          "data": {
            "text/plain": [
              "(10.1792174243927, 24.531116485595703)"
            ]
          },
          "metadata": {},
          "execution_count": 101
        },
        {
          "output_type": "display_data",
          "data": {
            "image/png": "[encoded data removed]",
            "text/plain": [
              "<Figure size 432x288 with 1 Axes>"
            ]
          },
          "metadata": {
            "needs_background": "light"
          }
        }
      ]
    },
    {
      "cell_type": "code",
      "source": [
        "pd.DataFrame(hi.history)"
      ],
      "metadata": {
        "colab": {
          "base_uri": "https://localhost:8080/",
          "height": 81
        },
        "id": "_E-oJxfwqiaT",
        "outputId": "23ccb5e5-59c6-4c22-aacc-a5b54696c4e3"
      },
      "execution_count": null,
      "outputs": [
        {
          "output_type": "execute_result",
          "data": {
            "text/html": [
              "\n",
              "  <div id=\"df-86997c98-e0d2-444a-bddd-aaf416bb7f6a\">\n",
              "    <div class=\"colab-df-container\">\n",
              "      <div>\n",
              "<style scoped>\n",
              "    .dataframe tbody tr th:only-of-type {\n",
              "        vertical-align: middle;\n",
              "    }\n",
              "\n",
              "    .dataframe tbody tr th {\n",
              "        vertical-align: top;\n",
              "    }\n",
              "\n",
              "    .dataframe thead th {\n",
              "        text-align: right;\n",
              "    }\n",
              "</style>\n",
              "<table border=\"1\" class=\"dataframe\">\n",
              "  <thead>\n",
              "    <tr style=\"text-align: right;\">\n",
              "      <th></th>\n",
              "      <th>loss</th>\n",
              "      <th>root_mean_squared_error</th>\n",
              "      <th>accuracy</th>\n",
              "    </tr>\n",
              "  </thead>\n",
              "  <tbody>\n",
              "    <tr>\n",
              "      <th>0</th>\n",
              "      <td>443.45020</td>\n",
              "      <td>21.05826</td>\n",
              "      <td>0.00000</td>\n",
              "    </tr>\n",
              "  </tbody>\n",
              "</table>\n",
              "</div>\n",
              "      <button class=\"colab-df-convert\" onclick=\"convertToInteractive('df-86997c98-e0d2-444a-bddd-aaf416bb7f6a')\"\n",
              "              title=\"Convert this dataframe to an interactive table.\"\n",
              "              style=\"display:none;\">\n",
              "        \n",
              "  <svg xmlns=\"http://www.w3.org/2000/svg\" height=\"24px\"viewBox=\"0 0 24 24\"\n",
              "       width=\"24px\">\n",
              "    <path d=\"M0 0h24v24H0V0z\" fill=\"none\"/>\n",
              "    <path d=\"M18.56 5.44l.94 2.06.94-2.06 2.06-.94-2.06-.94-.94-2.06-.94 2.06-2.06.94zm-11 1L8.5 8.5l.94-2.06 2.06-.94-2.06-.94L8.5 2.5l-.94 2.06-2.06.94zm10 10l.94 2.06.94-2.06 2.06-.94-2.06-.94-.94-2.06-.94 2.06-2.06.94z\"/><path d=\"M17.41 7.96l-1.37-1.37c-.4-.4-.92-.59-1.43-.59-.52 0-1.04.2-1.43.59L10.3 9.45l-7.72 7.72c-.78.78-.78 2.05 0 2.83L4 21.41c.39.39.9.59 1.41.59.51 0 1.02-.2 1.41-.59l7.78-7.78 2.81-2.81c.8-.78.8-2.07 0-2.86zM5.41 20L4 18.59l7.72-7.72 1.47 1.35L5.41 20z\"/>\n",
              "  </svg>\n",
              "      </button>\n",
              "      \n",
              "  <style>\n",
              "    .colab-df-container {\n",
              "      display:flex;\n",
              "      flex-wrap:wrap;\n",
              "      gap: 12px;\n",
              "    }\n",
              "\n",
              "    .colab-df-convert {\n",
              "      background-color: #E8F0FE;\n",
              "      border: none;\n",
              "      border-radius: 50%;\n",
              "      cursor: pointer;\n",
              "      display: none;\n",
              "      fill: #1967D2;\n",
              "      height: 32px;\n",
              "      padding: 0 0 0 0;\n",
              "      width: 32px;\n",
              "    }\n",
              "\n",
              "    .colab-df-convert:hover {\n",
              "      background-color: #E2EBFA;\n",
              "      box-shadow: 0px 1px 2px rgba(60, 64, 67, 0.3), 0px 1px 3px 1px rgba(60, 64, 67, 0.15);\n",
              "      fill: #174EA6;\n",
              "    }\n",
              "\n",
              "    [theme=dark] .colab-df-convert {\n",
              "      background-color: #3B4455;\n",
              "      fill: #D2E3FC;\n",
              "    }\n",
              "\n",
              "    [theme=dark] .colab-df-convert:hover {\n",
              "      background-color: #434B5C;\n",
              "      box-shadow: 0px 1px 3px 1px rgba(0, 0, 0, 0.15);\n",
              "      filter: drop-shadow(0px 1px 2px rgba(0, 0, 0, 0.3));\n",
              "      fill: #FFFFFF;\n",
              "    }\n",
              "  </style>\n",
              "\n",
              "      <script>\n",
              "        const buttonEl =\n",
              "          document.querySelector('#df-86997c98-e0d2-444a-bddd-aaf416bb7f6a button.colab-df-convert');\n",
              "        buttonEl.style.display =\n",
              "          google.colab.kernel.accessAllowed ? 'block' : 'none';\n",
              "\n",
              "        async function convertToInteractive(key) {\n",
              "          const element = document.querySelector('#df-86997c98-e0d2-444a-bddd-aaf416bb7f6a');\n",
              "          const dataTable =\n",
              "            await google.colab.kernel.invokeFunction('convertToInteractive',\n",
              "                                                     [key], {});\n",
              "          if (!dataTable) return;\n",
              "\n",
              "          const docLinkHtml = 'Like what you see? Visit the ' +\n",
              "            '<a target=\"_blank\" href=https://colab.research.google.com/notebooks/data_table.ipynb>data table notebook</a>'\n",
              "            + ' to learn more about interactive tables.';\n",
              "          element.innerHTML = '';\n",
              "          dataTable['output_type'] = 'display_data';\n",
              "          await google.colab.output.renderOutput(dataTable, element);\n",
              "          const docLink = document.createElement('div');\n",
              "          docLink.innerHTML = docLinkHtml;\n",
              "          element.appendChild(docLink);\n",
              "        }\n",
              "      </script>\n",
              "    </div>\n",
              "  </div>\n",
              "  "
            ],
            "text/plain": [
              "       loss  root_mean_squared_error  accuracy\n",
              "0 443.45020                 21.05826   0.00000"
            ]
          },
          "metadata": {},
          "execution_count": 153
        }
      ]
    },
    {
      "cell_type": "code",
      "source": [
        "my_feature[-1]"
      ],
      "metadata": {
        "colab": {
          "base_uri": "https://localhost:8080/"
        },
        "id": "-hJi80UEom5I",
        "outputId": "c2a5e972-5712-45ee-c4df-82a79625efd5"
      },
      "execution_count": null,
      "outputs": [
        {
          "output_type": "execute_result",
          "data": {
            "text/plain": [
              "12.0"
            ]
          },
          "metadata": {},
          "execution_count": 84
        }
      ]
    },
    {
      "cell_type": "code",
      "source": [
        "my_feature = ([1.0, 2.0,  3.0,  4.0,  5.0,  6.0,  7.0,  8.0,  9.0, 10.0, 11.0, 12.0])\n",
        "my_label   = ([5.0, 8.8,  9.6, 14.2, 18.8, 19.5, 21.4, 26.8, 28.9, 32.0, 33.8, 38.2])"
      ],
      "metadata": {
        "id": "H0K4T9-EaJ4K"
      },
      "execution_count": null,
      "outputs": []
    },
    {
      "cell_type": "code",
      "source": [
        "def build_model(learning_rate1=0.01):\n",
        "  model=tf.keras.models.Sequential()\n",
        "  model.add(tf.keras.layers.Dense(units=1,input_shape=(1,)))\n",
        "  model.compile(optimizer=tf.keras.optimizers.RMSprop(lr=learning_rate1),\n",
        "                loss=tf.losses.MeanSquaredError(),\n",
        "                metrics=[tf.keras.metrics.RootMeanSquaredError(),\n",
        "                ])\n",
        "  return model"
      ],
      "metadata": {
        "id": "DMzlOuJiaJ8p"
      },
      "execution_count": null,
      "outputs": []
    },
    {
      "cell_type": "code",
      "source": [
        "def train_model(model,feature,label,epochs=10,batch_size=3):\n",
        "  history=model.fit(x=feature,y=label,batch_size=batch_size,epochs=epochs)\n",
        "  tw=model.get_weights()[0]\n",
        "  tb=model.get_weights()[1]\n",
        "  return history,tw,tb"
      ],
      "metadata": {
        "id": "mNcZywWZdTuz"
      },
      "execution_count": null,
      "outputs": []
    },
    {
      "cell_type": "code",
      "source": [
        "my_model=build_model(0.03)\n",
        "hi,tw,tb=train_model(my_model,my_feature,my_label,50,2)"
      ],
      "metadata": {
        "colab": {
          "base_uri": "https://localhost:8080/"
        },
        "id": "loyFd6v8eTFh",
        "outputId": "18b3a2c7-8146-4cf9-c79a-f5cf4b377735"
      },
      "execution_count": null,
      "outputs": [
        {
          "output_type": "stream",
          "name": "stdout",
          "text": [
            "Epoch 1/50\n"
          ]
        },
        {
          "output_type": "stream",
          "name": "stderr",
          "text": [
            "/usr/local/lib/python3.7/dist-packages/keras/optimizer_v2/rmsprop.py:130: UserWarning: The `lr` argument is deprecated, use `learning_rate` instead.\n",
            "  super(RMSprop, self).__init__(name, **kwargs)\n"
          ]
        },
        {
          "output_type": "stream",
          "name": "stdout",
          "text": [
            "6/6 [==============================] - 0s 4ms/step - loss: 250.8309 - root_mean_squared_error: 15.8376 - accuracy: 0.0000e+00\n",
            "Epoch 2/50\n",
            "6/6 [==============================] - 0s 4ms/step - loss: 190.9159 - root_mean_squared_error: 13.8172 - accuracy: 0.0000e+00\n",
            "Epoch 3/50\n",
            "6/6 [==============================] - 0s 3ms/step - loss: 153.4680 - root_mean_squared_error: 12.3882 - accuracy: 0.0000e+00\n",
            "Epoch 4/50\n",
            "6/6 [==============================] - 0s 2ms/step - loss: 123.2918 - root_mean_squared_error: 11.1037 - accuracy: 0.0000e+00\n",
            "Epoch 5/50\n",
            "6/6 [==============================] - 0s 2ms/step - loss: 99.2994 - root_mean_squared_error: 9.9649 - accuracy: 0.0000e+00\n",
            "Epoch 6/50\n",
            "6/6 [==============================] - 0s 3ms/step - loss: 78.1675 - root_mean_squared_error: 8.8412 - accuracy: 0.0000e+00\n",
            "Epoch 7/50\n",
            "6/6 [==============================] - 0s 4ms/step - loss: 60.5678 - root_mean_squared_error: 7.7825 - accuracy: 0.0000e+00\n",
            "Epoch 8/50\n",
            "6/6 [==============================] - 0s 2ms/step - loss: 44.9860 - root_mean_squared_error: 6.7072 - accuracy: 0.0000e+00\n",
            "Epoch 9/50\n",
            "6/6 [==============================] - 0s 2ms/step - loss: 32.1909 - root_mean_squared_error: 5.6737 - accuracy: 0.0000e+00\n",
            "Epoch 10/50\n",
            "6/6 [==============================] - 0s 2ms/step - loss: 22.1547 - root_mean_squared_error: 4.7069 - accuracy: 0.0000e+00\n",
            "Epoch 11/50\n",
            "6/6 [==============================] - 0s 2ms/step - loss: 14.4562 - root_mean_squared_error: 3.8021 - accuracy: 0.0000e+00\n",
            "Epoch 12/50\n",
            "6/6 [==============================] - 0s 2ms/step - loss: 8.6690 - root_mean_squared_error: 2.9443 - accuracy: 0.0000e+00\n",
            "Epoch 13/50\n",
            "6/6 [==============================] - 0s 2ms/step - loss: 4.9015 - root_mean_squared_error: 2.2139 - accuracy: 0.0000e+00\n",
            "Epoch 14/50\n",
            "6/6 [==============================] - 0s 3ms/step - loss: 2.7089 - root_mean_squared_error: 1.6459 - accuracy: 0.0000e+00\n",
            "Epoch 15/50\n",
            "6/6 [==============================] - 0s 3ms/step - loss: 1.5444 - root_mean_squared_error: 1.2427 - accuracy: 0.0000e+00\n",
            "Epoch 16/50\n",
            "6/6 [==============================] - 0s 3ms/step - loss: 1.0601 - root_mean_squared_error: 1.0296 - accuracy: 0.0000e+00\n",
            "Epoch 17/50\n",
            "6/6 [==============================] - 0s 2ms/step - loss: 0.9680 - root_mean_squared_error: 0.9839 - accuracy: 0.0000e+00\n",
            "Epoch 18/50\n",
            "6/6 [==============================] - 0s 2ms/step - loss: 0.9057 - root_mean_squared_error: 0.9517 - accuracy: 0.0000e+00\n",
            "Epoch 19/50\n",
            "6/6 [==============================] - 0s 2ms/step - loss: 0.9318 - root_mean_squared_error: 0.9653 - accuracy: 0.0000e+00\n",
            "Epoch 20/50\n",
            "6/6 [==============================] - 0s 2ms/step - loss: 1.0630 - root_mean_squared_error: 1.0310 - accuracy: 0.0000e+00\n",
            "Epoch 21/50\n",
            "6/6 [==============================] - 0s 2ms/step - loss: 1.0365 - root_mean_squared_error: 1.0181 - accuracy: 0.0000e+00\n",
            "Epoch 22/50\n",
            "6/6 [==============================] - 0s 2ms/step - loss: 0.9049 - root_mean_squared_error: 0.9512 - accuracy: 0.0000e+00\n",
            "Epoch 23/50\n",
            "6/6 [==============================] - 0s 3ms/step - loss: 0.9515 - root_mean_squared_error: 0.9754 - accuracy: 0.0000e+00\n",
            "Epoch 24/50\n",
            "6/6 [==============================] - 0s 2ms/step - loss: 0.9244 - root_mean_squared_error: 0.9615 - accuracy: 0.0000e+00\n",
            "Epoch 25/50\n",
            "6/6 [==============================] - 0s 2ms/step - loss: 0.9240 - root_mean_squared_error: 0.9612 - accuracy: 0.0000e+00\n",
            "Epoch 26/50\n",
            "6/6 [==============================] - 0s 3ms/step - loss: 1.0293 - root_mean_squared_error: 1.0146 - accuracy: 0.0000e+00\n",
            "Epoch 27/50\n",
            "6/6 [==============================] - 0s 2ms/step - loss: 0.9529 - root_mean_squared_error: 0.9761 - accuracy: 0.0000e+00\n",
            "Epoch 28/50\n",
            "6/6 [==============================] - 0s 2ms/step - loss: 0.9690 - root_mean_squared_error: 0.9844 - accuracy: 0.0000e+00\n",
            "Epoch 29/50\n",
            "6/6 [==============================] - 0s 2ms/step - loss: 1.0456 - root_mean_squared_error: 1.0225 - accuracy: 0.0000e+00\n",
            "Epoch 30/50\n",
            "6/6 [==============================] - 0s 3ms/step - loss: 1.0696 - root_mean_squared_error: 1.0342 - accuracy: 0.0000e+00\n",
            "Epoch 31/50\n",
            "6/6 [==============================] - 0s 3ms/step - loss: 0.9593 - root_mean_squared_error: 0.9795 - accuracy: 0.0000e+00\n",
            "Epoch 32/50\n",
            "6/6 [==============================] - 0s 2ms/step - loss: 0.9996 - root_mean_squared_error: 0.9998 - accuracy: 0.0000e+00\n",
            "Epoch 33/50\n",
            "6/6 [==============================] - 0s 4ms/step - loss: 1.0260 - root_mean_squared_error: 1.0129 - accuracy: 0.0000e+00\n",
            "Epoch 34/50\n",
            "6/6 [==============================] - 0s 3ms/step - loss: 1.0269 - root_mean_squared_error: 1.0133 - accuracy: 0.0000e+00\n",
            "Epoch 35/50\n",
            "6/6 [==============================] - 0s 2ms/step - loss: 1.0738 - root_mean_squared_error: 1.0362 - accuracy: 0.0000e+00\n",
            "Epoch 36/50\n",
            "6/6 [==============================] - 0s 3ms/step - loss: 0.9731 - root_mean_squared_error: 0.9865 - accuracy: 0.0000e+00\n",
            "Epoch 37/50\n",
            "6/6 [==============================] - 0s 2ms/step - loss: 1.0026 - root_mean_squared_error: 1.0013 - accuracy: 0.0000e+00\n",
            "Epoch 38/50\n",
            "6/6 [==============================] - 0s 2ms/step - loss: 1.0680 - root_mean_squared_error: 1.0335 - accuracy: 0.0000e+00\n",
            "Epoch 39/50\n",
            "6/6 [==============================] - 0s 2ms/step - loss: 0.9662 - root_mean_squared_error: 0.9830 - accuracy: 0.0000e+00\n",
            "Epoch 40/50\n",
            "6/6 [==============================] - 0s 3ms/step - loss: 0.9726 - root_mean_squared_error: 0.9862 - accuracy: 0.0000e+00\n",
            "Epoch 41/50\n",
            "6/6 [==============================] - 0s 3ms/step - loss: 0.9021 - root_mean_squared_error: 0.9498 - accuracy: 0.0000e+00\n",
            "Epoch 42/50\n",
            "6/6 [==============================] - 0s 3ms/step - loss: 0.9295 - root_mean_squared_error: 0.9641 - accuracy: 0.0000e+00\n",
            "Epoch 43/50\n",
            "6/6 [==============================] - 0s 3ms/step - loss: 1.0949 - root_mean_squared_error: 1.0464 - accuracy: 0.0000e+00\n",
            "Epoch 44/50\n",
            "6/6 [==============================] - 0s 2ms/step - loss: 0.9504 - root_mean_squared_error: 0.9749 - accuracy: 0.0000e+00\n",
            "Epoch 45/50\n",
            "6/6 [==============================] - 0s 3ms/step - loss: 0.9758 - root_mean_squared_error: 0.9878 - accuracy: 0.0000e+00\n",
            "Epoch 46/50\n",
            "6/6 [==============================] - 0s 3ms/step - loss: 0.9386 - root_mean_squared_error: 0.9688 - accuracy: 0.0000e+00\n",
            "Epoch 47/50\n",
            "6/6 [==============================] - 0s 3ms/step - loss: 1.0880 - root_mean_squared_error: 1.0431 - accuracy: 0.0000e+00\n",
            "Epoch 48/50\n",
            "6/6 [==============================] - 0s 3ms/step - loss: 0.9525 - root_mean_squared_error: 0.9760 - accuracy: 0.0000e+00\n",
            "Epoch 49/50\n",
            "6/6 [==============================] - 0s 2ms/step - loss: 0.9323 - root_mean_squared_error: 0.9656 - accuracy: 0.0000e+00\n",
            "Epoch 50/50\n",
            "6/6 [==============================] - 0s 2ms/step - loss: 0.9809 - root_mean_squared_error: 0.9904 - accuracy: 0.0000e+00\n"
          ]
        }
      ]
    },
    {
      "cell_type": "code",
      "source": [
        "def plot_model(features,labels,tw,tb):\n",
        "  plt.xlabel('feature')\n",
        "  plt.ylabel('label')\n",
        "  plt.scatter(features,labels)\n",
        "  x0=0\n",
        "  y0=tb\n",
        "  x1=features[-1]\n",
        "  y1=tb+(tw*x1)\n",
        "  plt.plot([x0,x1],[y0,y1],c='r')\n",
        "  plt.show()\n",
        "plot_model(my_feature,my_label,tw,tb,)"
      ],
      "metadata": {
        "colab": {
          "base_uri": "https://localhost:8080/",
          "height": 338
        },
        "id": "za4eGs3Zyl1J",
        "outputId": "f220a520-5702-45db-845f-4e250363418a"
      },
      "execution_count": null,
      "outputs": [
        {
          "output_type": "stream",
          "name": "stderr",
          "text": [
            "/usr/local/lib/python3.7/dist-packages/numpy/core/shape_base.py:65: VisibleDeprecationWarning: Creating an ndarray from ragged nested sequences (which is a list-or-tuple of lists-or-tuples-or ndarrays with different lengths or shapes) is deprecated. If you meant to do this, you must specify 'dtype=object' when creating the ndarray.\n",
            "  ary = asanyarray(ary)\n"
          ]
        },
        {
          "output_type": "display_data",
          "data": {
            "image/png": "[encoded data removed]",
            "text/plain": [
              "<Figure size 432x288 with 1 Axes>"
            ]
          },
          "metadata": {
            "needs_background": "light"
          }
        }
      ]
    },
    {
      "cell_type": "code",
      "source": [
        "def plot_loss(epochs,loss):\n",
        "  plt.figure()\n",
        "\n",
        "  plt.xlabel('Epoch')\n",
        "  plt.ylabel('RMSW')\n",
        "\n",
        "  plt.plot(epochs,loss,label='Loss')\n",
        "  plt.legend()\n",
        "  plt.ylim(loss.min()*0.98,loss.max())\n",
        "  plt.show()\n",
        "a=pd.DataFrame(hi.history)\n",
        "er=a['root_mean_squared_error']\n",
        "plot_loss(hi.epoch,er)"
      ],
      "metadata": {
        "colab": {
          "base_uri": "https://localhost:8080/",
          "height": 279
        },
        "id": "kZILe4hm0Xqd",
        "outputId": "5580cc07-05c7-408c-9aad-546399e7fcdd"
      },
      "execution_count": null,
      "outputs": [
        {
          "output_type": "display_data",
          "data": {
            "image/png": "[encoded data removed]",
            "text/plain": [
              "<Figure size 432x288 with 1 Axes>"
            ]
          },
          "metadata": {
            "needs_background": "light"
          }
        }
      ]
    },
    {
      "cell_type": "code",
      "source": [
        "%reset"
      ],
      "metadata": {
        "colab": {
          "base_uri": "https://localhost:8080/"
        },
        "id": "CUT0uwPMg9M-",
        "outputId": "5e2cdb35-5279-4e3c-ccf5-97b40aa7becb"
      },
      "execution_count": null,
      "outputs": [
        {
          "name": "stdout",
          "output_type": "stream",
          "text": [
            "Once deleted, variables cannot be recovered. Proceed (y/[n])? y\n"
          ]
        }
      ]
    }
  ]
}